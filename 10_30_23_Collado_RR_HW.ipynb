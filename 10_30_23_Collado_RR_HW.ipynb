{
  "nbformat": 4,
  "nbformat_minor": 0,
  "metadata": {
    "colab": {
      "provenance": []
    },
    "kernelspec": {
      "name": "python3",
      "display_name": "Python 3"
    },
    "language_info": {
      "name": "python"
    }
  },
  "cells": [
    {
      "cell_type": "markdown",
      "source": [
        "Loren Collado\n",
        "11.1.23\n",
        "Rigor and Reproducibility\n",
        "\n",
        "This is a test."
      ],
      "metadata": {
        "id": "LJSJXiBi_REe"
      }
    },
    {
      "cell_type": "code",
      "execution_count": 6,
      "metadata": {
        "colab": {
          "base_uri": "https://localhost:8080/"
        },
        "id": "XJHyKFsz_L2F",
        "outputId": "90786cbe-cafc-44f4-c731-8d9f50858e3f"
      },
      "outputs": [
        {
          "output_type": "execute_result",
          "data": {
            "text/plain": [
              "7"
            ]
          },
          "metadata": {},
          "execution_count": 6
        }
      ],
      "source": [
        "2+5\n"
      ]
    },
    {
      "cell_type": "code",
      "source": [
        "from datetime import date\n",
        "\n",
        "today = date.today()\n",
        "print(\"Today's date:\", today)"
      ],
      "metadata": {
        "colab": {
          "base_uri": "https://localhost:8080/"
        },
        "id": "1wKzLo6x_pst",
        "outputId": "4d20eade-f04c-487a-810d-c75844d5c940"
      },
      "execution_count": 7,
      "outputs": [
        {
          "output_type": "stream",
          "name": "stdout",
          "text": [
            "Today's date: 2023-10-30\n"
          ]
        }
      ]
    },
    {
      "cell_type": "markdown",
      "source": [
        "Reflection: Computational reproducibility requires (1) organized directories (2) saving raw data with back ups of different version (3) good file naming and (4) commenting on code with analysis rationale, to name a few. Github helps with reproducibility within and between groups because it allows investigators to add code, raw data, and other relevant files to organized directories which are then available to collaborators. You can also download a code file to edit it and then reupload a new version with comments on changes made. That means that multiple versions of the file can be saved and viewed and all of your collaborators can stay up to date.\n",
        "\n",
        "I don't use github because my work doesn't require a lot of coding, but if for some reason I do more computational work, I will utilize github."
      ],
      "metadata": {
        "id": "j4SqerQvAFqR"
      }
    }
  ]
}